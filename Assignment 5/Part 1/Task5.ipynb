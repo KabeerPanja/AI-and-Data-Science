{
 "cells": [
  {
   "cell_type": "markdown",
   "id": "23e09e2b",
   "metadata": {},
   "source": [
    "# Shopping Cart"
   ]
  },
  {
   "cell_type": "code",
   "execution_count": 25,
   "id": "1d428669",
   "metadata": {},
   "outputs": [],
   "source": [
    "class ShoppingCart():\n",
    "    def __init__(self):\n",
    "        self.__items = []  \n",
    "\n",
    "    def add_item(self, item):\n",
    "        if item in self.__items:\n",
    "            return False   \n",
    "        self.__items.append(item)\n",
    "        return True\n",
    "\n",
    "    def remove_item(self, item):\n",
    "        if item in self.__items:\n",
    "            self.__items.remove(item)\n",
    "            return True\n",
    "        return False\n",
    "\n",
    "    def view_cart(self):\n",
    "        return list(self.__items)\n"
   ]
  },
  {
   "cell_type": "code",
   "execution_count": 26,
   "id": "eef2c3d2",
   "metadata": {},
   "outputs": [],
   "source": [
    "cart1 = ShoppingCart()\n",
    "cart2 = ShoppingCart()\n",
    "cart3 = ShoppingCart()"
   ]
  },
  {
   "cell_type": "code",
   "execution_count": 27,
   "id": "16821354",
   "metadata": {},
   "outputs": [
    {
     "name": "stdout",
     "output_type": "stream",
     "text": [
      "[] [] []\n"
     ]
    }
   ],
   "source": [
    "print(cart1.view_cart(), cart2.view_cart(), cart3.view_cart())"
   ]
  },
  {
   "cell_type": "code",
   "execution_count": 28,
   "id": "c27fbfe3",
   "metadata": {},
   "outputs": [
    {
     "data": {
      "text/plain": [
       "True"
      ]
     },
     "execution_count": 28,
     "metadata": {},
     "output_type": "execute_result"
    }
   ],
   "source": [
    "cart1.add_item(\"apple\")\n",
    "cart1.add_item(\"apple\") # duplicate\n",
    "cart1.add_item(\"orange\")"
   ]
  },
  {
   "cell_type": "code",
   "execution_count": 29,
   "id": "52c5ca7f",
   "metadata": {},
   "outputs": [
    {
     "data": {
      "text/plain": [
       "['apple', 'orange']"
      ]
     },
     "execution_count": 29,
     "metadata": {},
     "output_type": "execute_result"
    }
   ],
   "source": [
    "cart1.view_cart()"
   ]
  },
  {
   "cell_type": "code",
   "execution_count": 30,
   "id": "efaa0ed9",
   "metadata": {},
   "outputs": [
    {
     "data": {
      "text/plain": [
       "True"
      ]
     },
     "execution_count": 30,
     "metadata": {},
     "output_type": "execute_result"
    }
   ],
   "source": [
    "cart2.add_item(\"peach\")"
   ]
  },
  {
   "cell_type": "code",
   "execution_count": 31,
   "id": "8c1694b6",
   "metadata": {},
   "outputs": [
    {
     "data": {
      "text/plain": [
       "True"
      ]
     },
     "execution_count": 31,
     "metadata": {},
     "output_type": "execute_result"
    }
   ],
   "source": [
    "cart2.add_item(\"grapes\")"
   ]
  },
  {
   "cell_type": "code",
   "execution_count": 32,
   "id": "4d84eb08",
   "metadata": {},
   "outputs": [
    {
     "data": {
      "text/plain": [
       "['peach', 'grapes']"
      ]
     },
     "execution_count": 32,
     "metadata": {},
     "output_type": "execute_result"
    }
   ],
   "source": [
    "cart2.view_cart()"
   ]
  },
  {
   "cell_type": "code",
   "execution_count": 33,
   "id": "d3ddbdb2",
   "metadata": {},
   "outputs": [
    {
     "data": {
      "text/plain": [
       "True"
      ]
     },
     "execution_count": 33,
     "metadata": {},
     "output_type": "execute_result"
    }
   ],
   "source": [
    "cart2.remove_item(\"grapes\")"
   ]
  },
  {
   "cell_type": "code",
   "execution_count": 34,
   "id": "3614322b",
   "metadata": {},
   "outputs": [
    {
     "data": {
      "text/plain": [
       "['peach']"
      ]
     },
     "execution_count": 34,
     "metadata": {},
     "output_type": "execute_result"
    }
   ],
   "source": [
    "cart2.view_cart()"
   ]
  },
  {
   "cell_type": "code",
   "execution_count": null,
   "id": "a8931858",
   "metadata": {},
   "outputs": [],
   "source": []
  }
 ],
 "metadata": {
  "kernelspec": {
   "display_name": "Python 3",
   "language": "python",
   "name": "python3"
  },
  "language_info": {
   "codemirror_mode": {
    "name": "ipython",
    "version": 3
   },
   "file_extension": ".py",
   "mimetype": "text/x-python",
   "name": "python",
   "nbconvert_exporter": "python",
   "pygments_lexer": "ipython3",
   "version": "3.12.6"
  }
 },
 "nbformat": 4,
 "nbformat_minor": 5
}
