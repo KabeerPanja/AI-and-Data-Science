{
 "cells": [
  {
   "cell_type": "markdown",
   "id": "de492da8",
   "metadata": {},
   "source": [
    "# Employee Salary Protection"
   ]
  },
  {
   "cell_type": "code",
   "execution_count": 11,
   "id": "e248fe5d",
   "metadata": {},
   "outputs": [],
   "source": [
    "class Employee():\n",
    "    def __init__(self, name, salary):\n",
    "        self.__name = name\n",
    "        self.__salary = None\n",
    "        self.set_salary(salary)\n",
    "    \n",
    "    def get_name(self):\n",
    "        return self.__name\n",
    "\n",
    "    def set_salary(self, amount):\n",
    "        amount = float(amount)\n",
    "        if amount < 0:\n",
    "            return \"Salary must be non-negative\"\n",
    "        self.__salary = amount\n",
    "\n",
    "    def get_salary(self):\n",
    "        return self.__salary\n",
    "\n",
    "    def show_details(self):\n",
    "        return f\"Name: {self.__name} | Salary: {self.__salary}\"\n"
   ]
  },
  {
   "cell_type": "code",
   "execution_count": 12,
   "id": "7bf0e75c",
   "metadata": {},
   "outputs": [],
   "source": [
    "e1 = Employee(\"ahmed\", 20000)\n",
    "e2 = Employee(\"kabeer\", 25000)\n",
    "e3 = Employee(\"hashir\", 40000)"
   ]
  },
  {
   "cell_type": "code",
   "execution_count": 13,
   "id": "362f154c",
   "metadata": {},
   "outputs": [
    {
     "data": {
      "text/plain": [
       "'ahmed'"
      ]
     },
     "execution_count": 13,
     "metadata": {},
     "output_type": "execute_result"
    }
   ],
   "source": [
    "e1.get_name()"
   ]
  },
  {
   "cell_type": "code",
   "execution_count": 14,
   "id": "09b26495",
   "metadata": {},
   "outputs": [
    {
     "data": {
      "text/plain": [
       "'Salary must be non-negative'"
      ]
     },
     "execution_count": 14,
     "metadata": {},
     "output_type": "execute_result"
    }
   ],
   "source": [
    "e2.set_salary(-12000)"
   ]
  },
  {
   "cell_type": "code",
   "execution_count": 15,
   "id": "6346d41b",
   "metadata": {},
   "outputs": [],
   "source": [
    "e2.set_salary(12000)"
   ]
  },
  {
   "cell_type": "code",
   "execution_count": 16,
   "id": "6966ad56",
   "metadata": {},
   "outputs": [
    {
     "data": {
      "text/plain": [
       "'Name: kabeer | Salary: 12000.0'"
      ]
     },
     "execution_count": 16,
     "metadata": {},
     "output_type": "execute_result"
    }
   ],
   "source": [
    "e2.show_details()"
   ]
  },
  {
   "cell_type": "code",
   "execution_count": 17,
   "id": "3876ed19",
   "metadata": {},
   "outputs": [],
   "source": [
    "e3.set_salary(10000)"
   ]
  },
  {
   "cell_type": "code",
   "execution_count": 18,
   "id": "345259ec",
   "metadata": {},
   "outputs": [
    {
     "data": {
      "text/plain": [
       "10000.0"
      ]
     },
     "execution_count": 18,
     "metadata": {},
     "output_type": "execute_result"
    }
   ],
   "source": [
    "e3.get_salary()"
   ]
  },
  {
   "cell_type": "code",
   "execution_count": null,
   "id": "65ef3af3",
   "metadata": {},
   "outputs": [],
   "source": []
  }
 ],
 "metadata": {
  "kernelspec": {
   "display_name": "Python 3",
   "language": "python",
   "name": "python3"
  },
  "language_info": {
   "codemirror_mode": {
    "name": "ipython",
    "version": 3
   },
   "file_extension": ".py",
   "mimetype": "text/x-python",
   "name": "python",
   "nbconvert_exporter": "python",
   "pygments_lexer": "ipython3",
   "version": "3.12.6"
  }
 },
 "nbformat": 4,
 "nbformat_minor": 5
}
