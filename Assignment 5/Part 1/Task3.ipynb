{
 "cells": [
  {
   "cell_type": "markdown",
   "id": "01a90850",
   "metadata": {},
   "source": [
    "# Password Manager"
   ]
  },
  {
   "cell_type": "markdown",
   "id": "a62ed094",
   "metadata": {},
   "source": [
    "A password manager to check password, check username and update password.\n",
    "The program has a public attribute: username. and a private attribute: password"
   ]
  },
  {
   "cell_type": "code",
   "execution_count": 3,
   "id": "65bd1c87",
   "metadata": {},
   "outputs": [],
   "source": [
    "class PasswordManager():\n",
    "    def __init__(self, username, password):\n",
    "        self.username = username\n",
    "        self.__password = password\n",
    "\n",
    "    def set_password(self, old_password, new_password):\n",
    "        if self.__password == old_password:\n",
    "            self.__password = new_password\n",
    "            print(\"Password updated successfully.\")\n",
    "        else:\n",
    "            print(\"Old password is incorrect. Password not updated.\")\n",
    "\n",
    "    def check_username(self, name):\n",
    "        self.__check_username(name)\n",
    "\n",
    "    def check_password(self, input_pass):\n",
    "        self.__check_password(input_pass)\n",
    "\n",
    "    def __check_username(self, username):\n",
    "        if self.username == username:\n",
    "            print(\"Username verified.\")\n",
    "        else:\n",
    "            print(\"Username does not match.\")\n",
    "\n",
    "    def __check_password(self, password):\n",
    "        if self.__password == password:\n",
    "            print(\"Password verified.\")\n",
    "        else:\n",
    "            print(\"Password does not match.\")"
   ]
  },
  {
   "cell_type": "code",
   "execution_count": 4,
   "id": "16ff424d",
   "metadata": {},
   "outputs": [],
   "source": [
    "pm1 = PasswordManager(\"user1\", \"pass123\")\n",
    "pm2 = PasswordManager(\"talha\", \"Axiom123\")\n",
    "pm3 = PasswordManager(\"guest\", \"guest\")"
   ]
  },
  {
   "cell_type": "code",
   "execution_count": 5,
   "id": "b8221725",
   "metadata": {},
   "outputs": [
    {
     "name": "stdout",
     "output_type": "stream",
     "text": [
      "Password verified.\n"
     ]
    }
   ],
   "source": [
    "pm1.check_password(\"pass123\")"
   ]
  },
  {
   "cell_type": "code",
   "execution_count": 6,
   "id": "761ba39f",
   "metadata": {},
   "outputs": [
    {
     "name": "stdout",
     "output_type": "stream",
     "text": [
      "Password updated successfully.\n"
     ]
    }
   ],
   "source": [
    "pm2.set_password(\"Axiom123\", \"qw321\")"
   ]
  },
  {
   "cell_type": "code",
   "execution_count": 7,
   "id": "22d43b2b",
   "metadata": {},
   "outputs": [
    {
     "name": "stdout",
     "output_type": "stream",
     "text": [
      "Password verified.\n"
     ]
    }
   ],
   "source": [
    "pm2.check_password(\"qw321\")"
   ]
  },
  {
   "cell_type": "code",
   "execution_count": 8,
   "id": "8aec0335",
   "metadata": {},
   "outputs": [
    {
     "name": "stdout",
     "output_type": "stream",
     "text": [
      "Username verified.\n"
     ]
    }
   ],
   "source": [
    "pm3.check_username(\"guest\")"
   ]
  },
  {
   "cell_type": "code",
   "execution_count": 9,
   "id": "dd9ecf06",
   "metadata": {},
   "outputs": [
    {
     "name": "stdout",
     "output_type": "stream",
     "text": [
      "Password does not match.\n"
     ]
    }
   ],
   "source": [
    "pm3.check_password(\"pass123\")"
   ]
  }
 ],
 "metadata": {
  "kernelspec": {
   "display_name": "Python 3",
   "language": "python",
   "name": "python3"
  },
  "language_info": {
   "codemirror_mode": {
    "name": "ipython",
    "version": 3
   },
   "file_extension": ".py",
   "mimetype": "text/x-python",
   "name": "python",
   "nbconvert_exporter": "python",
   "pygments_lexer": "ipython3",
   "version": "3.12.6"
  }
 },
 "nbformat": 4,
 "nbformat_minor": 5
}
