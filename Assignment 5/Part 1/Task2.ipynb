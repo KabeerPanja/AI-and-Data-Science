{
 "cells": [
  {
   "cell_type": "markdown",
   "id": "8aa370d8",
   "metadata": {},
   "source": [
    "# Students Marks Validation"
   ]
  },
  {
   "cell_type": "markdown",
   "id": "5922b136",
   "metadata": {},
   "source": [
    "A class Student is created which takes name, roll_no and marks as inputs and creates private attributes.\n",
    "Has a method called set_marks to set the marks or even update the marks.\n",
    "Has getter methods to get the name, roll_no of the student."
   ]
  },
  {
   "cell_type": "code",
   "execution_count": 1,
   "id": "841ec6af",
   "metadata": {},
   "outputs": [],
   "source": [
    "class Student():\n",
    "    def __init__(self, name, roll_no, marks):\n",
    "        self.__name = name\n",
    "        self.__roll_no = roll_no\n",
    "        self.set_marks(marks)\n",
    "\n",
    "    def set_marks(self, marks):\n",
    "        if 0 <= marks <= 100:\n",
    "            self.__marks = marks\n",
    "        else:\n",
    "            print(\"Marks must be between 0 and 100.\")\n",
    "            return\n",
    "\n",
    "    def get_name(self):\n",
    "        return self.__name\n",
    "\n",
    "    def get_roll_no(self):\n",
    "        return self.__roll_no\n",
    "\n",
    "    def get_marks(self):\n",
    "        return self.__marks"
   ]
  },
  {
   "cell_type": "code",
   "execution_count": 2,
   "id": "6eea7075",
   "metadata": {},
   "outputs": [],
   "source": [
    "kashif = Student(\"Kashif\", 101, 68)\n",
    "hamza = Student(\"Hamza\", 102, 79)\n",
    "imaad = Student(\"Imaad\", 103, 35)\n",
    "kabeer = Student(\"Kabeer\", 104, 96)"
   ]
  },
  {
   "cell_type": "code",
   "execution_count": 3,
   "id": "2f679929",
   "metadata": {},
   "outputs": [
    {
     "data": {
      "text/plain": [
       "101"
      ]
     },
     "execution_count": 3,
     "metadata": {},
     "output_type": "execute_result"
    }
   ],
   "source": [
    "kashif.get_roll_no()"
   ]
  },
  {
   "cell_type": "code",
   "execution_count": 4,
   "id": "9e5a7c0b",
   "metadata": {},
   "outputs": [
    {
     "data": {
      "text/plain": [
       "35"
      ]
     },
     "execution_count": 4,
     "metadata": {},
     "output_type": "execute_result"
    }
   ],
   "source": [
    "imaad.get_marks()"
   ]
  },
  {
   "cell_type": "code",
   "execution_count": 5,
   "id": "2f507ddc",
   "metadata": {},
   "outputs": [],
   "source": [
    "imaad.set_marks(80)"
   ]
  },
  {
   "cell_type": "code",
   "execution_count": 6,
   "id": "2c25d9f5",
   "metadata": {},
   "outputs": [
    {
     "data": {
      "text/plain": [
       "80"
      ]
     },
     "execution_count": 6,
     "metadata": {},
     "output_type": "execute_result"
    }
   ],
   "source": [
    "imaad.get_marks()"
   ]
  },
  {
   "cell_type": "code",
   "execution_count": 7,
   "id": "d791c771",
   "metadata": {},
   "outputs": [
    {
     "data": {
      "text/plain": [
       "96"
      ]
     },
     "execution_count": 7,
     "metadata": {},
     "output_type": "execute_result"
    }
   ],
   "source": [
    "kabeer.get_marks()"
   ]
  },
  {
   "cell_type": "code",
   "execution_count": 8,
   "id": "a37a3a98",
   "metadata": {},
   "outputs": [
    {
     "name": "stdout",
     "output_type": "stream",
     "text": [
      "Marks must be between 0 and 100.\n"
     ]
    }
   ],
   "source": [
    "kabeer.set_marks(120)"
   ]
  },
  {
   "cell_type": "code",
   "execution_count": 9,
   "id": "e36339f2",
   "metadata": {},
   "outputs": [
    {
     "data": {
      "text/plain": [
       "'Hamza'"
      ]
     },
     "execution_count": 9,
     "metadata": {},
     "output_type": "execute_result"
    }
   ],
   "source": [
    "hamza.get_name()"
   ]
  },
  {
   "cell_type": "code",
   "execution_count": 10,
   "id": "49c69cc7",
   "metadata": {},
   "outputs": [
    {
     "data": {
      "text/plain": [
       "79"
      ]
     },
     "execution_count": 10,
     "metadata": {},
     "output_type": "execute_result"
    }
   ],
   "source": [
    "hamza.get_marks()"
   ]
  }
 ],
 "metadata": {
  "kernelspec": {
   "display_name": "Python 3",
   "language": "python",
   "name": "python3"
  },
  "language_info": {
   "codemirror_mode": {
    "name": "ipython",
    "version": 3
   },
   "file_extension": ".py",
   "mimetype": "text/x-python",
   "name": "python",
   "nbconvert_exporter": "python",
   "pygments_lexer": "ipython3",
   "version": "3.12.6"
  }
 },
 "nbformat": 4,
 "nbformat_minor": 5
}
