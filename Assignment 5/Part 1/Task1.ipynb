{
 "cells": [
  {
   "cell_type": "markdown",
   "id": "2b564afa",
   "metadata": {},
   "source": [
    "# Bank Account"
   ]
  },
  {
   "cell_type": "markdown",
   "id": "863b7e83",
   "metadata": {},
   "source": [
    "A bank account system user can use to deposit an amount in his account.\n",
    "Has private attributes of account_number and balance.\n",
    "Withdraw method is available to withdraw an amount.\n",
    "Get_balance method is available, allowing users to see their balance."
   ]
  },
  {
   "cell_type": "code",
   "execution_count": 1,
   "id": "e05e5dee",
   "metadata": {},
   "outputs": [],
   "source": [
    "class BankAccount():\n",
    "    def __init__(self, account_number, balance):\n",
    "        self.__account_number = account_number\n",
    "        self.__balance = balance\n",
    "    \n",
    "    def deposit(self, amount):\n",
    "        self.__balance += amount\n",
    "        return self.__balance\n",
    "    \n",
    "    def withdraw(self, amount):\n",
    "        if 0 < amount <= self.__balance:\n",
    "            self.__balance -= amount\n",
    "            return self.__balance\n",
    "        return \"Not enough balance\"\n",
    "    \n",
    "    def get_balance(self):\n",
    "        return self.__balance"
   ]
  },
  {
   "cell_type": "code",
   "execution_count": 2,
   "id": "cbc2a54f",
   "metadata": {},
   "outputs": [],
   "source": [
    "kabeer = BankAccount(123, 1000)\n",
    "ahmed = BankAccount(456, 2000)\n",
    "hashir = BankAccount(789, 10000)"
   ]
  },
  {
   "cell_type": "code",
   "execution_count": 3,
   "id": "a9ac796a",
   "metadata": {},
   "outputs": [
    {
     "data": {
      "text/plain": [
       "1500"
      ]
     },
     "execution_count": 3,
     "metadata": {},
     "output_type": "execute_result"
    }
   ],
   "source": [
    "kabeer.deposit(500)"
   ]
  },
  {
   "cell_type": "code",
   "execution_count": 4,
   "id": "4b713356",
   "metadata": {},
   "outputs": [
    {
     "data": {
      "text/plain": [
       "9980"
      ]
     },
     "execution_count": 4,
     "metadata": {},
     "output_type": "execute_result"
    }
   ],
   "source": [
    "hashir.withdraw(20)"
   ]
  },
  {
   "cell_type": "code",
   "execution_count": 5,
   "id": "96f1bc0d",
   "metadata": {},
   "outputs": [
    {
     "name": "stdout",
     "output_type": "stream",
     "text": [
      "2000\n"
     ]
    }
   ],
   "source": [
    "print(ahmed.get_balance())"
   ]
  },
  {
   "cell_type": "code",
   "execution_count": 6,
   "id": "42802641",
   "metadata": {},
   "outputs": [
    {
     "data": {
      "text/plain": [
       "'Not enough balance'"
      ]
     },
     "execution_count": 6,
     "metadata": {},
     "output_type": "execute_result"
    }
   ],
   "source": [
    "ahmed.withdraw(3000)"
   ]
  },
  {
   "cell_type": "code",
   "execution_count": 7,
   "id": "e59b14e3",
   "metadata": {},
   "outputs": [
    {
     "data": {
      "text/plain": [
       "3000"
      ]
     },
     "execution_count": 7,
     "metadata": {},
     "output_type": "execute_result"
    }
   ],
   "source": [
    "ahmed.deposit(1000)"
   ]
  },
  {
   "cell_type": "code",
   "execution_count": 8,
   "id": "fefd6dfd",
   "metadata": {},
   "outputs": [
    {
     "data": {
      "text/plain": [
       "0"
      ]
     },
     "execution_count": 8,
     "metadata": {},
     "output_type": "execute_result"
    }
   ],
   "source": [
    "ahmed.withdraw(3000)"
   ]
  }
 ],
 "metadata": {
  "kernelspec": {
   "display_name": "Python 3",
   "language": "python",
   "name": "python3"
  },
  "language_info": {
   "codemirror_mode": {
    "name": "ipython",
    "version": 3
   },
   "file_extension": ".py",
   "mimetype": "text/x-python",
   "name": "python",
   "nbconvert_exporter": "python",
   "pygments_lexer": "ipython3",
   "version": "3.12.6"
  }
 },
 "nbformat": 4,
 "nbformat_minor": 5
}
