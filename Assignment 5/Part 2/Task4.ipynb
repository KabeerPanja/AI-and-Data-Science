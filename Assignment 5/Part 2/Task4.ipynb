{
 "cells": [
  {
   "cell_type": "markdown",
   "id": "e27daf91",
   "metadata": {},
   "source": [
    "#  Multiple Inheritance – Skills"
   ]
  },
  {
   "cell_type": "code",
   "execution_count": 7,
   "id": "a0d0fadd",
   "metadata": {},
   "outputs": [],
   "source": [
    "class Father:\n",
    "    def skills(self):\n",
    "        return \"Scientist\"\n",
    "\n",
    "class Mother:\n",
    "    def skills(self):\n",
    "        return \"Freelancer\"\n",
    "\n",
    "class Child(Father, Mother):\n",
    "    def skills(self):\n",
    "        skill_f = Father.skills(self)\n",
    "        skill_m = Mother.skills(self)\n",
    "        return f\"{skill_f} and {skill_m}\""
   ]
  },
  {
   "cell_type": "code",
   "execution_count": 8,
   "id": "298d9253",
   "metadata": {},
   "outputs": [],
   "source": [
    "ch1 = Child()\n",
    "ch2 = Child()\n",
    "ch3 = Child()"
   ]
  },
  {
   "cell_type": "code",
   "execution_count": 9,
   "id": "996f1585",
   "metadata": {},
   "outputs": [
    {
     "name": "stdout",
     "output_type": "stream",
     "text": [
      "ch1 skills: Scientist and Freelancer\n",
      "ch2 skills: Scientist and Freelancer\n",
      "ch3 skills: Scientist and Freelancer\n"
     ]
    }
   ],
   "source": [
    "print(\"ch1 skills:\", ch1.skills())\n",
    "print(\"ch2 skills:\", ch2.skills())\n",
    "print(\"ch3 skills:\", ch3.skills())"
   ]
  },
  {
   "cell_type": "code",
   "execution_count": 10,
   "id": "b84bf895",
   "metadata": {},
   "outputs": [
    {
     "name": "stdout",
     "output_type": "stream",
     "text": [
      "Father skill: Scientist\n",
      "Mother skill: Freelancer\n"
     ]
    }
   ],
   "source": [
    "print(\"Father skill:\", Father().skills())\n",
    "print(\"Mother skill:\", Mother().skills())"
   ]
  },
  {
   "cell_type": "code",
   "execution_count": null,
   "id": "3ef700e3",
   "metadata": {},
   "outputs": [],
   "source": []
  }
 ],
 "metadata": {
  "kernelspec": {
   "display_name": "Python 3",
   "language": "python",
   "name": "python3"
  },
  "language_info": {
   "codemirror_mode": {
    "name": "ipython",
    "version": 3
   },
   "file_extension": ".py",
   "mimetype": "text/x-python",
   "name": "python",
   "nbconvert_exporter": "python",
   "pygments_lexer": "ipython3",
   "version": "3.12.6"
  }
 },
 "nbformat": 4,
 "nbformat_minor": 5
}
