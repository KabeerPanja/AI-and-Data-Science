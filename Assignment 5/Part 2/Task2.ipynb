{
 "cells": [
  {
   "cell_type": "markdown",
   "id": "af62f39b",
   "metadata": {},
   "source": [
    "# Single Level – Vehicle "
   ]
  },
  {
   "cell_type": "code",
   "execution_count": 1,
   "id": "a880ba22",
   "metadata": {},
   "outputs": [],
   "source": [
    "class Vehicle:\n",
    "    def __init__(self, brand, model):\n",
    "        self.brand = brand\n",
    "        self.model = model\n",
    "\n",
    "    def details(self):\n",
    "        return f\"{self.brand} {self.model}\""
   ]
  },
  {
   "cell_type": "code",
   "execution_count": 2,
   "id": "e822cd24",
   "metadata": {},
   "outputs": [],
   "source": [
    "class Car(Vehicle):\n",
    "    def __init__(self, brand, model, seats):\n",
    "        super().__init__(brand, model)\n",
    "        self.seats = seats\n",
    "\n",
    "    def car_details(self):\n",
    "        return f\"{self.brand} {self.model} | Seats: {self.seats}\"\n"
   ]
  },
  {
   "cell_type": "code",
   "execution_count": 3,
   "id": "57c5ead7",
   "metadata": {},
   "outputs": [],
   "source": [
    "car1 = Car(\"Toyota\", \"Corolla\", 5)\n",
    "car2 = Car(\"Honda\", \"Civic\", 5)\n",
    "car3 = Car(\"Kia\", \"Sportage\", 7)\n"
   ]
  },
  {
   "cell_type": "code",
   "execution_count": 4,
   "id": "8b480496",
   "metadata": {},
   "outputs": [
    {
     "name": "stdout",
     "output_type": "stream",
     "text": [
      "Toyota Corolla | Seats: 5\n",
      "Honda Civic | Seats: 5\n",
      "Kia Sportage | Seats: 7\n"
     ]
    }
   ],
   "source": [
    "print(car1.car_details())\n",
    "print(car2.car_details())\n",
    "print(car3.car_details())\n"
   ]
  }
 ],
 "metadata": {
  "kernelspec": {
   "display_name": "Python 3",
   "language": "python",
   "name": "python3"
  },
  "language_info": {
   "codemirror_mode": {
    "name": "ipython",
    "version": 3
   },
   "file_extension": ".py",
   "mimetype": "text/x-python",
   "name": "python",
   "nbconvert_exporter": "python",
   "pygments_lexer": "ipython3",
   "version": "3.12.6"
  }
 },
 "nbformat": 4,
 "nbformat_minor": 5
}
