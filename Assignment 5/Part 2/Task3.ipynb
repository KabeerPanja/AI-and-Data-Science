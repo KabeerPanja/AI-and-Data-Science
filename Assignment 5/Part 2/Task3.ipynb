{
 "cells": [
  {
   "cell_type": "markdown",
   "id": "49ed6c4a",
   "metadata": {},
   "source": [
    "# Multi-Level – Family Tree"
   ]
  },
  {
   "cell_type": "code",
   "execution_count": 1,
   "id": "b368d856",
   "metadata": {},
   "outputs": [],
   "source": [
    "class GrandParent:\n",
    "    def family_name(self):\n",
    "        return \"FamilyNameX\"\n",
    "\n",
    "class Parent(GrandParent):\n",
    "    def occupation(self):\n",
    "        return \"Engineer\"\n",
    "\n",
    "class Child(Parent):\n",
    "    def hobby(self):\n",
    "        return \"Painting\"\n"
   ]
  },
  {
   "cell_type": "code",
   "execution_count": 3,
   "id": "2fc1bb64",
   "metadata": {},
   "outputs": [],
   "source": [
    "c1 = Child()\n",
    "c2 = Child()\n",
    "c3 = Child()"
   ]
  },
  {
   "cell_type": "code",
   "execution_count": 4,
   "id": "cdea4a9d",
   "metadata": {},
   "outputs": [
    {
     "name": "stdout",
     "output_type": "stream",
     "text": [
      "c1 family: FamilyNameX\n",
      "c1 occupation: Engineer\n",
      "c1 hobby: Painting\n"
     ]
    }
   ],
   "source": [
    "print(\"c1 family:\", c1.family_name())\n",
    "print(\"c1 occupation:\", c1.occupation())\n",
    "print(\"c1 hobby:\", c1.hobby())          "
   ]
  },
  {
   "cell_type": "code",
   "execution_count": 6,
   "id": "c99f1b3e",
   "metadata": {},
   "outputs": [
    {
     "name": "stdout",
     "output_type": "stream",
     "text": [
      "FamilyNameX Engineer Painting\n",
      "FamilyNameX Engineer Painting\n"
     ]
    }
   ],
   "source": [
    "print(c2.family_name(), c2.occupation(), c2.hobby())\n",
    "print(c3.family_name(), c3.occupation(), c3.hobby())"
   ]
  },
  {
   "cell_type": "code",
   "execution_count": null,
   "id": "2486f089",
   "metadata": {},
   "outputs": [],
   "source": []
  }
 ],
 "metadata": {
  "kernelspec": {
   "display_name": "Python 3",
   "language": "python",
   "name": "python3"
  },
  "language_info": {
   "codemirror_mode": {
    "name": "ipython",
    "version": 3
   },
   "file_extension": ".py",
   "mimetype": "text/x-python",
   "name": "python",
   "nbconvert_exporter": "python",
   "pygments_lexer": "ipython3",
   "version": "3.12.6"
  }
 },
 "nbformat": 4,
 "nbformat_minor": 5
}
