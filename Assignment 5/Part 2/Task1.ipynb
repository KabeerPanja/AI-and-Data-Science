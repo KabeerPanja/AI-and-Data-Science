{
 "cells": [
  {
   "cell_type": "markdown",
   "id": "59f1f71b",
   "metadata": {},
   "source": [
    "# Single Level – Animal"
   ]
  },
  {
   "cell_type": "code",
   "execution_count": 5,
   "id": "ac08f15b",
   "metadata": {},
   "outputs": [],
   "source": [
    "class Animal:\n",
    "    def make_sound(self):\n",
    "        return \"Animal Sound\"\n"
   ]
  },
  {
   "cell_type": "code",
   "execution_count": 6,
   "id": "6115d142",
   "metadata": {},
   "outputs": [],
   "source": [
    "class Dog(Animal):\n",
    "    def make_sound(self):\n",
    "        return \"Bark!\""
   ]
  },
  {
   "cell_type": "code",
   "execution_count": 7,
   "id": "7302388e",
   "metadata": {},
   "outputs": [],
   "source": [
    "a = Animal()\n",
    "d1 = Dog()\n",
    "d2 = Dog()\n",
    "d3 = Dog()\n"
   ]
  },
  {
   "cell_type": "code",
   "execution_count": 8,
   "id": "3c61daff",
   "metadata": {},
   "outputs": [
    {
     "name": "stdout",
     "output_type": "stream",
     "text": [
      "Animal sound: Animal Sound\n",
      "Dog1 sound: Bark!\n",
      "Dog2 sound: Bark!\n",
      "Dog3 sound: Bark!\n"
     ]
    }
   ],
   "source": [
    "print(\"Animal sound:\", a.make_sound())\n",
    "print(\"Dog1 sound:\", d1.make_sound())\n",
    "print(\"Dog2 sound:\", d2.make_sound())\n",
    "print(\"Dog3 sound:\", d3.make_sound())\n"
   ]
  }
 ],
 "metadata": {
  "kernelspec": {
   "display_name": "Python 3",
   "language": "python",
   "name": "python3"
  },
  "language_info": {
   "codemirror_mode": {
    "name": "ipython",
    "version": 3
   },
   "file_extension": ".py",
   "mimetype": "text/x-python",
   "name": "python",
   "nbconvert_exporter": "python",
   "pygments_lexer": "ipython3",
   "version": "3.12.6"
  }
 },
 "nbformat": 4,
 "nbformat_minor": 5
}
