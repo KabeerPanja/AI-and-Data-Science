{
 "cells": [
  {
   "cell_type": "markdown",
   "id": "edef5ca4",
   "metadata": {},
   "source": [
    "# Array Creation Functions"
   ]
  },
  {
   "cell_type": "code",
   "execution_count": 1,
   "id": "945b45ff",
   "metadata": {},
   "outputs": [
    {
     "name": "stdout",
     "output_type": "stream",
     "text": [
      "Zero Matrix (4×4):\n",
      " [[0. 0. 0. 0.]\n",
      " [0. 0. 0. 0.]\n",
      " [0. 0. 0. 0.]\n",
      " [0. 0. 0. 0.]] \n",
      "\n",
      "One Matrix (3×2):\n",
      " [[1. 1.]\n",
      " [1. 1.]\n",
      " [1. 1.]] \n",
      "\n",
      "Identity Matrix (5×5):\n",
      " [[1. 0. 0. 0. 0.]\n",
      " [0. 1. 0. 0. 0.]\n",
      " [0. 0. 1. 0. 0.]\n",
      " [0. 0. 0. 1. 0.]\n",
      " [0. 0. 0. 0. 1.]] \n",
      "\n",
      "Constant Array (3×3) with 7s:\n",
      " [[7 7 7]\n",
      " [7 7 7]\n",
      " [7 7 7]] \n",
      "\n",
      "Random Integer Array (3×4):\n",
      " [[22 43 77 47]\n",
      " [81 65 41 21]\n",
      " [55 37 45 83]]\n"
     ]
    }
   ],
   "source": [
    "import numpy as np\n",
    "\n",
    "# a) Zero matrix (4×4)\n",
    "zeros_arr = np.zeros((4, 4))\n",
    "print(\"Zero Matrix (4×4):\\n\", zeros_arr, \"\\n\")\n",
    "\n",
    "# b) One matrix (3×2)\n",
    "ones_arr = np.ones((3, 2))\n",
    "print(\"One Matrix (3×2):\\n\", ones_arr, \"\\n\")\n",
    "\n",
    "# c) Identity matrix (5×5)\n",
    "identity_arr = np.eye(5)\n",
    "print(\"Identity Matrix (5×5):\\n\", identity_arr, \"\\n\")\n",
    "\n",
    "# d) Constant values array filled with 7\n",
    "const_arr = np.full((3, 3), 7)\n",
    "print(\"Constant Array (3×3) with 7s:\\n\", const_arr, \"\\n\")\n",
    "\n",
    "# e) Random integer array (3×4), values between 10 and 99\n",
    "rand_arr = np.random.randint(10, 99, (3, 4))\n",
    "print(\"Random Integer Array (3×4):\\n\", rand_arr)\n"
   ]
  },
  {
   "cell_type": "code",
   "execution_count": 2,
   "id": "85f725d1",
   "metadata": {},
   "outputs": [
    {
     "name": "stdout",
     "output_type": "stream",
     "text": [
      "Array reshaped to 3×3:\n",
      " [[ 5 10 15]\n",
      " [20 25 30]\n",
      " [35 40 45]]\n"
     ]
    }
   ],
   "source": [
    "# Generate array from 5 to 50 with step 5\n",
    "arr = np.arange(5, 50, 5)\n",
    "\n",
    "# Reshape into 3×3\n",
    "reshaped_arr = arr.reshape(3, 3)\n",
    "print(\"Array reshaped to 3×3:\\n\", reshaped_arr)"
   ]
  }
 ],
 "metadata": {
  "kernelspec": {
   "display_name": "Python 3",
   "language": "python",
   "name": "python3"
  },
  "language_info": {
   "codemirror_mode": {
    "name": "ipython",
    "version": 3
   },
   "file_extension": ".py",
   "mimetype": "text/x-python",
   "name": "python",
   "nbconvert_exporter": "python",
   "pygments_lexer": "ipython3",
   "version": "3.12.6"
  }
 },
 "nbformat": 4,
 "nbformat_minor": 5
}
