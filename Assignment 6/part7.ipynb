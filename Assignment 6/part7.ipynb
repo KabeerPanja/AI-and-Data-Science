{
 "cells": [
  {
   "cell_type": "markdown",
   "id": "706e7b29",
   "metadata": {},
   "source": [
    "# Reshape, Flatten, Ravel "
   ]
  },
  {
   "cell_type": "code",
   "execution_count": 5,
   "id": "c09eeb2a",
   "metadata": {},
   "outputs": [
    {
     "name": "stdout",
     "output_type": "stream",
     "text": [
      "3 x 4 Array:\n",
      " [[ 1  2  3  4]\n",
      " [ 5  6  7  8]\n",
      " [ 9 10 11 12]]\n",
      "\n",
      "2 x 6 Array:\n",
      " [[ 1  2  3  4  5  6]\n",
      " [ 7  8  9 10 11 12]]\n"
     ]
    }
   ],
   "source": [
    "import numpy as np\n",
    "\n",
    "arr = np.arange(1, 13)\n",
    "\n",
    "arr_3x4 = arr.reshape(3, 4)\n",
    "arr_2x6 = arr.reshape(2, 6)\n",
    "\n",
    "print(\"3 x 4 Array:\\n\", arr_3x4)\n",
    "print(\"\\n2 x 6 Array:\\n\", arr_2x6)"
   ]
  },
  {
   "cell_type": "code",
   "execution_count": 7,
   "id": "841605e8",
   "metadata": {},
   "outputs": [
    {
     "name": "stdout",
     "output_type": "stream",
     "text": [
      "Original Array after changes:\n",
      " [[  1 200   3]\n",
      " [  4   5   6]]\n",
      "\n",
      "Flattened Array:\n",
      " [100   2   3   4   5   6]\n",
      "\n",
      "Raveled Array:\n",
      " [  1 200   3   4   5   6]\n"
     ]
    }
   ],
   "source": [
    "arr2 = np.array([[1, 2, 3],\n",
    "                 [4, 5, 6]])\n",
    "\n",
    "# Flatten --> creates a copy\n",
    "flat_arr = arr2.flatten()\n",
    "\n",
    "# Ravel --> creates a view\n",
    "ravel_arr = arr2.ravel()\n",
    "\n",
    "flat_arr[0] = 100\n",
    "ravel_arr[1] = 200\n",
    "\n",
    "print(\"Original Array after changes:\\n\", arr2)\n",
    "print(\"\\nFlattened Array:\\n\", flat_arr)\n",
    "print(\"\\nRaveled Array:\\n\", ravel_arr)\n"
   ]
  },
  {
   "cell_type": "code",
   "execution_count": 9,
   "id": "8e3a90a2",
   "metadata": {},
   "outputs": [
    {
     "name": "stdout",
     "output_type": "stream",
     "text": [
      "Original 3x3 Array:\n",
      " [[1 2 3]\n",
      " [4 5 6]\n",
      " [7 8 9]]\n",
      "\n",
      "Flattened 1D Array:\n",
      " [1 2 3 4 5 6 7 8 9]\n",
      "Raveled 1D Array:\n",
      " [1 2 3 4 5 6 7 8 9]\n",
      "\n",
      "Modified Ravel --> Original Array Changes:\n",
      " [[999   2   3]\n",
      " [  4   5   6]\n",
      " [  7   8   9]]\n"
     ]
    }
   ],
   "source": [
    "arr3 = np.arange(1, 10).reshape(3, 3)\n",
    "print(\"Original 3x3 Array:\\n\", arr3)\n",
    "\n",
    "flat1 = arr3.flatten()\n",
    "ravel1 = arr3.ravel()\n",
    "\n",
    "print(\"\\nFlattened 1D Array:\\n\", flat1)\n",
    "print(\"Raveled 1D Array:\\n\", ravel1)\n",
    "\n",
    "# Change ravel to show effect on original\n",
    "ravel1[0] = 999\n",
    "print(\"\\nModified Ravel --> Original Array Changes:\\n\", arr3)\n"
   ]
  }
 ],
 "metadata": {
  "kernelspec": {
   "display_name": "Python 3",
   "language": "python",
   "name": "python3"
  },
  "language_info": {
   "codemirror_mode": {
    "name": "ipython",
    "version": 3
   },
   "file_extension": ".py",
   "mimetype": "text/x-python",
   "name": "python",
   "nbconvert_exporter": "python",
   "pygments_lexer": "ipython3",
   "version": "3.12.6"
  }
 },
 "nbformat": 4,
 "nbformat_minor": 5
}
