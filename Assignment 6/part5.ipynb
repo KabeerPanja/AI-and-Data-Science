{
 "cells": [
  {
   "cell_type": "markdown",
   "id": "e12d5cc1",
   "metadata": {},
   "source": [
    "# Vectorization"
   ]
  },
  {
   "cell_type": "code",
   "execution_count": 1,
   "id": "de0d375f",
   "metadata": {},
   "outputs": [
    {
     "name": "stdout",
     "output_type": "stream",
     "text": [
      "A: [3 6 8 5 2]\n",
      "B: [3 2 3 6 7]\n",
      "\n",
      "Addition: [ 6  8 11 11  9]\n",
      "Subtraction: [ 0  4  5 -1 -5]\n",
      "Multiplication: [ 9 12 24 30 14]\n",
      "Division: [1.         3.         2.66666667 0.83333333 0.28571429]\n"
     ]
    }
   ],
   "source": [
    "import numpy as np\n",
    "\n",
    "A = np.random.randint(1, 10, 5)\n",
    "B = np.random.randint(1, 10, 5)\n",
    "\n",
    "print(\"A:\", A)\n",
    "print(\"B:\", B)\n",
    "\n",
    "print(\"\\nAddition:\", A + B)\n",
    "print(\"Subtraction:\", A - B)\n",
    "print(\"Multiplication:\", A * B)\n",
    "print(\"Division:\", A / B)\n"
   ]
  },
  {
   "cell_type": "code",
   "execution_count": 2,
   "id": "10eda75f",
   "metadata": {},
   "outputs": [
    {
     "name": "stdout",
     "output_type": "stream",
     "text": [
      "Array: [1 2 3 4 5]\n",
      "\n",
      "Square Root: [1.         1.41421356 1.73205081 2.         2.23606798]\n",
      "Exponential: [  2.71828183   7.3890561   20.08553692  54.59815003 148.4131591 ]\n",
      "Sine: [ 0.84147098  0.90929743  0.14112001 -0.7568025  -0.95892427]\n"
     ]
    }
   ],
   "source": [
    "# Vectorized math functions\n",
    "arr = np.arange(1, 6)\n",
    "\n",
    "print(\"Array:\", arr)\n",
    "print(\"\\nSquare Root:\", np.sqrt(arr))\n",
    "print(\"Exponential:\", np.exp(arr))\n",
    "print(\"Sine:\", np.sin(arr))\n"
   ]
  },
  {
   "cell_type": "code",
   "execution_count": 4,
   "id": "937b7934",
   "metadata": {},
   "outputs": [
    {
     "name": "stdout",
     "output_type": "stream",
     "text": [
      "Celsius: [ 0 10 20 30 40 50 60 70 80 90]\n",
      "Fahrenheit: [ 32.  50.  68.  86. 104. 122. 140. 158. 176. 194.]\n"
     ]
    }
   ],
   "source": [
    "# Celsius to Fahrenheit conversion\n",
    "cel = np.array([0, 10, 20, 30, 40, 50, 60, 70, 80, 90])\n",
    "fah = (celsius * 9/5) + 32\n",
    "\n",
    "print(\"Celsius:\", cel)\n",
    "print(\"Fahrenheit:\", fah)"
   ]
  }
 ],
 "metadata": {
  "kernelspec": {
   "display_name": "Python 3",
   "language": "python",
   "name": "python3"
  },
  "language_info": {
   "codemirror_mode": {
    "name": "ipython",
    "version": 3
   },
   "file_extension": ".py",
   "mimetype": "text/x-python",
   "name": "python",
   "nbconvert_exporter": "python",
   "pygments_lexer": "ipython3",
   "version": "3.12.6"
  }
 },
 "nbformat": 4,
 "nbformat_minor": 5
}
