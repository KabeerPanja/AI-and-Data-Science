{
 "cells": [
  {
   "cell_type": "markdown",
   "id": "47ac290f",
   "metadata": {},
   "source": [
    "# Indexing and Slicing"
   ]
  },
  {
   "cell_type": "code",
   "execution_count": 1,
   "id": "fc777b6e",
   "metadata": {},
   "outputs": [
    {
     "name": "stdout",
     "output_type": "stream",
     "text": [
      "Original Array:\n",
      " [[ 10  20  30  40]\n",
      " [ 50  60  70  80]\n",
      " [ 90 100 110 120]]\n"
     ]
    }
   ],
   "source": [
    "import numpy as np\n",
    "\n",
    "arr = np.array([[10, 20, 30, 40],\n",
    "                [50, 60, 70, 80],\n",
    "                [90, 100, 110, 120]])\n",
    "\n",
    "print(\"Original Array:\\n\", arr)\n"
   ]
  },
  {
   "cell_type": "code",
   "execution_count": 2,
   "id": "8ee8984f",
   "metadata": {},
   "outputs": [
    {
     "name": "stdout",
     "output_type": "stream",
     "text": [
      "Second Row:\n",
      " [50 60 70 80]\n",
      "\n",
      "First 2 Rows and Last 2 Columns:\n",
      " [[30 40]\n",
      " [70 80]]\n",
      "\n",
      "Last Column:\n",
      " [ 40  80 120]\n",
      "\n",
      "After Replacing Middle Row:\n",
      " [[ 10  20  30  40]\n",
      " [  1   2   3   4]\n",
      " [ 90 100 110 120]]\n"
     ]
    }
   ],
   "source": [
    "# 1. Extract the second row\n",
    "print(\"Second Row:\\n\", arr[1])\n",
    "\n",
    "# 2. Extract first two rows & second two columns\n",
    "print(\"\\nFirst 2 Rows and Last 2 Columns:\\n\", arr[:2, 2:])\n",
    "\n",
    "# 3. Extract last column using slicing\n",
    "print(\"\\nLast Column:\\n\", arr[:, -1])\n",
    "\n",
    "# 4. Replace middle row with [1, 2, 3, 4]\n",
    "arr[1] = [1, 2, 3, 4]\n",
    "print(\"\\nAfter Replacing Middle Row:\\n\", arr)\n"
   ]
  }
 ],
 "metadata": {
  "kernelspec": {
   "display_name": "Python 3",
   "language": "python",
   "name": "python3"
  },
  "language_info": {
   "codemirror_mode": {
    "name": "ipython",
    "version": 3
   },
   "file_extension": ".py",
   "mimetype": "text/x-python",
   "name": "python",
   "nbconvert_exporter": "python",
   "pygments_lexer": "ipython3",
   "version": "3.12.6"
  }
 },
 "nbformat": 4,
 "nbformat_minor": 5
}
