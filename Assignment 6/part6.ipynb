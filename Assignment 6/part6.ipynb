{
 "cells": [
  {
   "cell_type": "markdown",
   "id": "80aea906",
   "metadata": {},
   "source": [
    "# Broadcasting"
   ]
  },
  {
   "cell_type": "code",
   "execution_count": 2,
   "id": "0fe5e55f",
   "metadata": {},
   "outputs": [
    {
     "name": "stdout",
     "output_type": "stream",
     "text": [
      "Matrix A:\n",
      " [[1 2 3]\n",
      " [4 5 6]\n",
      " [7 8 9]]\n"
     ]
    }
   ],
   "source": [
    "import numpy as np\n",
    "\n",
    "A = np.arange(1, 10).reshape(3, 3)\n",
    "print(\"Matrix A:\\n\", A)"
   ]
  },
  {
   "cell_type": "markdown",
   "id": "20f85cdb",
   "metadata": {},
   "source": [
    "Predicted Shapes:\n",
    "- A + 10 --> (3, 3) \n",
    "- A + [1, 2, 3] --> (3, 3) \n",
    "- A + [[1], [2], [3]] --> (3, 3)\n"
   ]
  },
  {
   "cell_type": "code",
   "execution_count": 3,
   "id": "04dab496",
   "metadata": {},
   "outputs": [
    {
     "name": "stdout",
     "output_type": "stream",
     "text": [
      "\n",
      "A + 10:\n",
      " [[11 12 13]\n",
      " [14 15 16]\n",
      " [17 18 19]]\n"
     ]
    }
   ],
   "source": [
    "# Scalar broadcasting\n",
    "print(\"\\nA + 10:\\n\", A + 10)"
   ]
  },
  {
   "cell_type": "code",
   "execution_count": 4,
   "id": "23a5a012",
   "metadata": {},
   "outputs": [
    {
     "name": "stdout",
     "output_type": "stream",
     "text": [
      "\n",
      "A + [1, 2, 3]:\n",
      " [[ 2  4  6]\n",
      " [ 5  7  9]\n",
      " [ 8 10 12]]\n"
     ]
    }
   ],
   "source": [
    "# Row vector broadcasting\n",
    "row_vec = np.array([1, 2, 3])\n",
    "print(\"\\nA + [1, 2, 3]:\\n\", A + row_vec)"
   ]
  },
  {
   "cell_type": "code",
   "execution_count": 5,
   "id": "24e40096",
   "metadata": {},
   "outputs": [
    {
     "name": "stdout",
     "output_type": "stream",
     "text": [
      "\n",
      "A + column vector [[1], [2], [3]]:\n",
      " [[ 2  3  4]\n",
      " [ 6  7  8]\n",
      " [10 11 12]]\n"
     ]
    }
   ],
   "source": [
    "# Column vector broadcasting\n",
    "col_vec = np.array([[1], [2], [3]])\n",
    "print(\"\\nA + column vector [[1], [2], [3]]:\\n\", A + col_vec)"
   ]
  },
  {
   "cell_type": "code",
   "execution_count": null,
   "id": "839d2d21",
   "metadata": {},
   "outputs": [],
   "source": []
  }
 ],
 "metadata": {
  "kernelspec": {
   "display_name": "Python 3",
   "language": "python",
   "name": "python3"
  },
  "language_info": {
   "codemirror_mode": {
    "name": "ipython",
    "version": 3
   },
   "file_extension": ".py",
   "mimetype": "text/x-python",
   "name": "python",
   "nbconvert_exporter": "python",
   "pygments_lexer": "ipython3",
   "version": "3.12.6"
  }
 },
 "nbformat": 4,
 "nbformat_minor": 5
}
