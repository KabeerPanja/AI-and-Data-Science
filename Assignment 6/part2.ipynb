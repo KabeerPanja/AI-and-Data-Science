{
 "cells": [
  {
   "cell_type": "markdown",
   "id": "4436d160",
   "metadata": {},
   "source": [
    "# Array Creation and Data Types"
   ]
  },
  {
   "cell_type": "code",
   "execution_count": 1,
   "id": "96c38f61",
   "metadata": {},
   "outputs": [
    {
     "name": "stdout",
     "output_type": "stream",
     "text": [
      "1D Array:\n",
      " [ 1  2  3  4  5  6  7  8  9 10]\n",
      "\n",
      "2D Array:\n",
      " [[1 2 3]\n",
      " [4 5 6]\n",
      " [7 8 9]]\n"
     ]
    }
   ],
   "source": [
    "import numpy as np\n",
    "\n",
    "# 1D array of integers from 1 to 10\n",
    "arr1 = np.arange(1, 11)\n",
    "\n",
    "# 2D array of size 3×3 with numbers from 1–9\n",
    "arr2 = np.arange(1, 10).reshape(3, 3)\n",
    "\n",
    "print(\"1D Array:\\n\", arr1)\n",
    "print(\"\\n2D Array:\\n\", arr2)\n"
   ]
  },
  {
   "cell_type": "code",
   "execution_count": 2,
   "id": "fc95d61a",
   "metadata": {},
   "outputs": [
    {
     "name": "stdout",
     "output_type": "stream",
     "text": [
      "---- 1D Array Info ----\n",
      "Dimensions: 1\n",
      "Shape: (10,)\n",
      "Size: 10\n",
      "Data Type: int64\n",
      "Item Size: 8 bytes\n",
      "\n",
      "---- 2D Array Info ----\n",
      "Dimensions: 2\n",
      "Shape: (3, 3)\n",
      "Size: 9\n",
      "Data Type: int64\n",
      "Item Size: 8 bytes\n"
     ]
    }
   ],
   "source": [
    "# For 1D Array\n",
    "print(\"---- 1D Array Info ----\")\n",
    "print(\"Dimensions:\", arr1.ndim)\n",
    "print(\"Shape:\", arr1.shape)\n",
    "print(\"Size:\", arr1.size)\n",
    "print(\"Data Type:\", arr1.dtype)\n",
    "print(\"Item Size:\", arr1.itemsize, \"bytes\")\n",
    "\n",
    "# For 2D Array\n",
    "print(\"\\n---- 2D Array Info ----\")\n",
    "print(\"Dimensions:\", arr2.ndim)\n",
    "print(\"Shape:\", arr2.shape)\n",
    "print(\"Size:\", arr2.size)\n",
    "print(\"Data Type:\", arr2.dtype)\n",
    "print(\"Item Size:\", arr2.itemsize, \"bytes\")\n"
   ]
  },
  {
   "cell_type": "code",
   "execution_count": 4,
   "id": "f808e2ab",
   "metadata": {},
   "outputs": [
    {
     "name": "stdout",
     "output_type": "stream",
     "text": [
      "Float Array:\n",
      " [[1.1 2.2 3.3]\n",
      " [4.4 5.5 6.6]\n",
      " [7.7 8.8 9.9]]\n",
      "\n",
      "Converted Integer Array:\n",
      " [[1 2 3]\n",
      " [4 5 6]\n",
      " [7 8 9]]\n"
     ]
    }
   ],
   "source": [
    "float_arr = np.array(\n",
    "    [[1.1, 2.2, 3.3],                  \n",
    "    [4.4, 5.5, 6.6],\n",
    "    [7.7, 8.8, 9.9]\n",
    "    ])\n",
    "\n",
    "int_arr = float_arr.astype(int)\n",
    "\n",
    "print(\"Float Array:\\n\", float_arr)\n",
    "print(\"\\nConverted Integer Array:\\n\", int_arr)\n"
   ]
  }
 ],
 "metadata": {
  "kernelspec": {
   "display_name": "Python 3",
   "language": "python",
   "name": "python3"
  },
  "language_info": {
   "codemirror_mode": {
    "name": "ipython",
    "version": 3
   },
   "file_extension": ".py",
   "mimetype": "text/x-python",
   "name": "python",
   "nbconvert_exporter": "python",
   "pygments_lexer": "ipython3",
   "version": "3.12.6"
  }
 },
 "nbformat": 4,
 "nbformat_minor": 5
}
