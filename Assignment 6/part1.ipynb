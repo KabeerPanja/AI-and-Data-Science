{
 "cells": [
  {
   "cell_type": "markdown",
   "id": "d94bdf3e",
   "metadata": {},
   "source": [
    "# Power of NumPy vs Python Lists"
   ]
  },
  {
   "cell_type": "code",
   "execution_count": 2,
   "metadata": {},
   "outputs": [],
   "source": [
    "import numpy as np\n",
    "\n",
    "py_list = list(range(1, 100001))\n",
    "\n",
    "np_array = np.arange(1, 100001)"
   ]
  },
  {
   "cell_type": "code",
   "execution_count": 3,
   "id": "c2a3ef52",
   "metadata": {},
   "outputs": [
    {
     "name": "stdout",
     "output_type": "stream",
     "text": [
      "CPU times: total: 46.9 ms\n",
      "Wall time: 37 ms\n"
     ]
    }
   ],
   "source": [
    "%%time\n",
    "\n",
    "py_result = [x * 5 for x in py_list]"
   ]
  },
  {
   "cell_type": "code",
   "execution_count": 4,
   "id": "858259e6",
   "metadata": {},
   "outputs": [
    {
     "name": "stdout",
     "output_type": "stream",
     "text": [
      "CPU times: total: 0 ns\n",
      "Wall time: 2 ms\n"
     ]
    }
   ],
   "source": [
    "%%time\n",
    "\n",
    "np_result = np_array * 5\n"
   ]
  },
  {
   "cell_type": "markdown",
   "id": "38c4b73e",
   "metadata": {},
   "source": [
    "NumPy is faster because:\n",
    "- It performs operations in compiled C code.\n",
    "- Uses vectorization (no loops in Python level).\n",
    "- Stores data in contiguous memory, improving cache efficiency.\n"
   ]
  }
 ],
 "metadata": {
  "kernelspec": {
   "display_name": "Python 3",
   "language": "python",
   "name": "python3"
  },
  "language_info": {
   "codemirror_mode": {
    "name": "ipython",
    "version": 3
   },
   "file_extension": ".py",
   "mimetype": "text/x-python",
   "name": "python",
   "nbconvert_exporter": "python",
   "pygments_lexer": "ipython3",
   "version": "3.12.6"
  }
 },
 "nbformat": 4,
 "nbformat_minor": 5
}
